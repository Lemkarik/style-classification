{
 "cells": [
  {
   "cell_type": "code",
   "execution_count": 1,
   "id": "50850b60-7b6b-4874-840b-296d746ea222",
   "metadata": {},
   "outputs": [
    {
     "name": "stderr",
     "output_type": "stream",
     "text": [
      "[nltk_data] Downloading package stopwords to\n",
      "[nltk_data]     C:\\Users\\423\\AppData\\Roaming\\nltk_data...\n",
      "[nltk_data]   Package stopwords is already up-to-date!\n"
     ]
    },
    {
     "data": {
      "text/plain": [
       "True"
      ]
     },
     "execution_count": 1,
     "metadata": {},
     "output_type": "execute_result"
    }
   ],
   "source": [
    "import os\n",
    "import re\n",
    "from typing import List\n",
    "\n",
    "import numpy as np\n",
    "import pandas as pd\n",
    "\n",
    "import seaborn as sns\n",
    "import matplotlib.pyplot as plt\n",
    "\n",
    "from nltk import PorterStemmer, SnowballStemmer, WordNetLemmatizer\n",
    "from sklearn.feature_extraction.text import TfidfVectorizer, CountVectorizer\n",
    "from sklearn.model_selection import train_test_split, GridSearchCV, RandomizedSearchCV, cross_validate, cross_val_score\n",
    "from sklearn.metrics import accuracy_score, precision_score, recall_score, f1_score, confusion_matrix, classification_report, ConfusionMatrixDisplay, make_scorer\n",
    "from sklearn.linear_model import LogisticRegression\n",
    "from sklearn.svm import SVC                         # Высокий шанс переобучения\n",
    "from sklearn.neighbors import KNeighborsClassifier  # Плохо работает на данных большой размерности из-за проклятия размерности\n",
    "from sklearn.naive_bayes import MultinomialNB       # Подразумевается, что признаки независимые, но для текста это неверно\n",
    "from sklearn.tree import DecisionTreeClassifier\n",
    "from sklearn.ensemble import RandomForestClassifier\n",
    "from sklearn.pipeline import Pipeline\n",
    "\n",
    "from nltk.corpus import stopwords\n",
    "import pymorphy3\n",
    "\n",
    "from catboost import CatBoostClassifier\n",
    "\n",
    "import warnings \n",
    "warnings.simplefilter('ignore')\n",
    "\n",
    "import nltk\n",
    "nltk.download('stopwords')"
   ]
  },
  {
   "cell_type": "code",
   "execution_count": 2,
   "id": "bcbf0f81-e99f-4e05-8986-32575be2c78b",
   "metadata": {},
   "outputs": [],
   "source": [
    "df_train = pd.read_csv(\"../data/my_dataset.csv\")"
   ]
  },
  {
   "cell_type": "code",
   "execution_count": 3,
   "id": "9bf656a8-9d8f-4a17-9eed-03d4f4787165",
   "metadata": {
    "scrolled": true
   },
   "outputs": [
    {
     "data": {
      "text/html": [
       "<div>\n",
       "<style scoped>\n",
       "    .dataframe tbody tr th:only-of-type {\n",
       "        vertical-align: middle;\n",
       "    }\n",
       "\n",
       "    .dataframe tbody tr th {\n",
       "        vertical-align: top;\n",
       "    }\n",
       "\n",
       "    .dataframe thead th {\n",
       "        text-align: right;\n",
       "    }\n",
       "</style>\n",
       "<table border=\"1\" class=\"dataframe\">\n",
       "  <thead>\n",
       "    <tr style=\"text-align: right;\">\n",
       "      <th></th>\n",
       "      <th>text</th>\n",
       "      <th>style</th>\n",
       "    </tr>\n",
       "  </thead>\n",
       "  <tbody>\n",
       "    <tr>\n",
       "      <th>0</th>\n",
       "      <td>Как целостная система знаний о растениях ботан...</td>\n",
       "      <td>2</td>\n",
       "    </tr>\n",
       "    <tr>\n",
       "      <th>1</th>\n",
       "      <td>\\r\\n Содержание\\r\\n Основные этапы развития бо...</td>\n",
       "      <td>2</td>\n",
       "    </tr>\n",
       "    <tr>\n",
       "      <th>2</th>\n",
       "      <td>) в пятой книге «Истории животных» (лат.  Hist...</td>\n",
       "      <td>2</td>\n",
       "    </tr>\n",
       "    <tr>\n",
       "      <th>3</th>\n",
       "      <td>Виммером.  Из них\\r\\n можно видеть, что Арист...</td>\n",
       "      <td>2</td>\n",
       "    </tr>\n",
       "    <tr>\n",
       "      <th>4</th>\n",
       "      <td>Он\\r\\n писал, например, что в отношении некот...</td>\n",
       "      <td>2</td>\n",
       "    </tr>\n",
       "  </tbody>\n",
       "</table>\n",
       "</div>"
      ],
      "text/plain": [
       "                                                text  style\n",
       "0  Как целостная система знаний о растениях ботан...      2\n",
       "1  \\r\\n Содержание\\r\\n Основные этапы развития бо...      2\n",
       "2  ) в пятой книге «Истории животных» (лат.  Hist...      2\n",
       "3   Виммером.  Из них\\r\\n можно видеть, что Арист...      2\n",
       "4   Он\\r\\n писал, например, что в отношении некот...      2"
      ]
     },
     "execution_count": 3,
     "metadata": {},
     "output_type": "execute_result"
    }
   ],
   "source": [
    "df_train = df_train.dropna(axis=0, how='any')\n",
    "df_train.head()"
   ]
  },
  {
   "cell_type": "code",
   "execution_count": 4,
   "id": "1a85fda5-df31-4c73-acc7-9de898406232",
   "metadata": {},
   "outputs": [
    {
     "data": {
      "text/html": [
       "<div>\n",
       "<style scoped>\n",
       "    .dataframe tbody tr th:only-of-type {\n",
       "        vertical-align: middle;\n",
       "    }\n",
       "\n",
       "    .dataframe tbody tr th {\n",
       "        vertical-align: top;\n",
       "    }\n",
       "\n",
       "    .dataframe thead th {\n",
       "        text-align: right;\n",
       "    }\n",
       "</style>\n",
       "<table border=\"1\" class=\"dataframe\">\n",
       "  <thead>\n",
       "    <tr style=\"text-align: right;\">\n",
       "      <th></th>\n",
       "      <th>text</th>\n",
       "      <th>style</th>\n",
       "    </tr>\n",
       "  </thead>\n",
       "  <tbody>\n",
       "  </tbody>\n",
       "</table>\n",
       "</div>"
      ],
      "text/plain": [
       "Empty DataFrame\n",
       "Columns: [text, style]\n",
       "Index: []"
      ]
     },
     "execution_count": 4,
     "metadata": {},
     "output_type": "execute_result"
    }
   ],
   "source": [
    "df_train[df_train.isna().any(axis=1)]"
   ]
  },
  {
   "cell_type": "code",
   "execution_count": 5,
   "id": "1e229893-f797-4004-8dd1-a7b2da555aac",
   "metadata": {},
   "outputs": [],
   "source": [
    "style = df_train[\"style\"].drop_duplicates().values\n",
    "category = dict()\n",
    "for i in range(len(style)):\n",
    "    category[style[i]] = i "
   ]
  },
  {
   "cell_type": "code",
   "execution_count": 6,
   "id": "b9d5f420-beb3-4ded-8ad7-d1545aca3301",
   "metadata": {},
   "outputs": [
    {
     "data": {
      "text/plain": [
       "style\n",
       "0    889\n",
       "2    651\n",
       "1    359\n",
       "Name: count, dtype: int64"
      ]
     },
     "execution_count": 6,
     "metadata": {},
     "output_type": "execute_result"
    },
    {
     "data": {
      "image/png": "[encoded data removed]",
      "text/plain": [
       "<Figure size 640x480 with 1 Axes>"
      ]
     },
     "metadata": {},
     "output_type": "display_data"
    }
   ],
   "source": [
    "cnts = df_train[\"style\"].value_counts()\n",
    "cnts\n",
    "colors = sns.color_palette('pastel')[ 0:5 ]\n",
    "plt.pie(cnts, labels=[\"Публицистический\", \"Научный\", \"Художественный\"], colors=colors, autopct=\"%1.2f%%\")\n",
    "cnts"
   ]
  },
  {
   "cell_type": "code",
   "execution_count": 7,
   "id": "ddbed544-f318-4637-884d-5c0fced61084",
   "metadata": {},
   "outputs": [],
   "source": [
    "stop_words = set(stopwords.words('russian'))\n",
    "\n",
    "def preprocess_text(text: str) -> List[str]:\n",
    "    return re.sub(r\"[^\\w\\s]+\", '', text).lower().split()\n",
    "\n",
    "def preprocess_porter_stem(text: str) -> str:\n",
    "    prep_text = preprocess_text(text)\n",
    "    stemmer = PorterStemmer()\n",
    "    singles = [stemmer.stem(x) for x in prep_text if x not in stop_words]\n",
    "    return ' '.join(singles)\n",
    "\n",
    "def preprocess_snowball_stem(text: str) -> str:\n",
    "    prep_text = preprocess_text(text)\n",
    "    stemmer = SnowballStemmer(\"russian\")\n",
    "    singles = [stemmer.stem(x) for x in prep_text if x not in stop_words]\n",
    "    return ' '.join(singles)\n",
    "\n",
    "def preprocess_wordnet_lem(text: str) -> str:\n",
    "    prep_text = preprocess_text(text)\n",
    "    lemmatizer = WordNetLemmatizer()\n",
    "    singles = [lemmatizer.lemmatize(x) for x in prep_text if x not in stop_words]\n",
    "    return ' '.join(singles)\n",
    "\n",
    "def preprocess_pymrophy(text: str) -> str:\n",
    "    prep_text = preprocess_text(text)\n",
    "    morph = pymorphy3.MorphAnalyzer()\n",
    "    singles = [morph.parse(x)[0].normal_form for x in prep_text if x not in stop_words]\n",
    "    return ' '.join(singles)"
   ]
  },
  {
   "cell_type": "code",
   "execution_count": 8,
   "id": "3c24b38c-205f-4f80-8d38-a16ffd531b34",
   "metadata": {},
   "outputs": [],
   "source": [
    "df_train['porter'] = df_train['text'].map(lambda x: preprocess_porter_stem(x))\n",
    "df_train['snowball'] = df_train['text'].map(lambda x: preprocess_snowball_stem(x))\n",
    "df_train['wordnet'] = df_train['text'].map(lambda x: preprocess_wordnet_lem(x))\n",
    "df_train['pymorphy'] = df_train['text'].map(lambda x: preprocess_pymrophy(x))"
   ]
  },
  {
   "cell_type": "code",
   "execution_count": 9,
   "id": "49d7e4a2-f0a8-48f5-aa10-ed7957d230a9",
   "metadata": {},
   "outputs": [
    {
     "data": {
      "text/html": [
       "<div>\n",
       "<style scoped>\n",
       "    .dataframe tbody tr th:only-of-type {\n",
       "        vertical-align: middle;\n",
       "    }\n",
       "\n",
       "    .dataframe tbody tr th {\n",
       "        vertical-align: top;\n",
       "    }\n",
       "\n",
       "    .dataframe thead th {\n",
       "        text-align: right;\n",
       "    }\n",
       "</style>\n",
       "<table border=\"1\" class=\"dataframe\">\n",
       "  <thead>\n",
       "    <tr style=\"text-align: right;\">\n",
       "      <th></th>\n",
       "      <th>text</th>\n",
       "      <th>style</th>\n",
       "      <th>porter</th>\n",
       "      <th>snowball</th>\n",
       "      <th>wordnet</th>\n",
       "      <th>pymorphy</th>\n",
       "    </tr>\n",
       "  </thead>\n",
       "  <tbody>\n",
       "    <tr>\n",
       "      <th>0</th>\n",
       "      <td>Как целостная система знаний о растениях ботан...</td>\n",
       "      <td>2</td>\n",
       "      <td>целостная система знаний растениях ботаника оф...</td>\n",
       "      <td>целостн систем знан растен ботаник оформ xviix...</td>\n",
       "      <td>целостная система знаний растениях ботаника оф...</td>\n",
       "      <td>целостный система знание растение ботаника офо...</td>\n",
       "    </tr>\n",
       "    <tr>\n",
       "      <th>1</th>\n",
       "      <td>\\r\\n Содержание\\r\\n Основные этапы развития бо...</td>\n",
       "      <td>2</td>\n",
       "      <td>содержание основные этапы развития ботаники ти...</td>\n",
       "      <td>содержан основн этап развит ботаник титульн ли...</td>\n",
       "      <td>содержание основные этапы развития ботаники ти...</td>\n",
       "      <td>содержание основной этап развитие ботаник титу...</td>\n",
       "    </tr>\n",
       "    <tr>\n",
       "      <th>2</th>\n",
       "      <td>) в пятой книге «Истории животных» (лат.  Hist...</td>\n",
       "      <td>2</td>\n",
       "      <td>пятой книге истории животных лат historia anim...</td>\n",
       "      <td>пят книг истор животн лат historia animalium у...</td>\n",
       "      <td>пятой книге истории животных лат historia anim...</td>\n",
       "      <td>пятый книга история животное лата historia ani...</td>\n",
       "    </tr>\n",
       "    <tr>\n",
       "      <th>3</th>\n",
       "      <td>Виммером.  Из них\\r\\n можно видеть, что Арист...</td>\n",
       "      <td>2</td>\n",
       "      <td>виммером видеть аристотель признавал существов...</td>\n",
       "      <td>виммер видет аристотел признава существован дв...</td>\n",
       "      <td>виммером видеть аристотель признавал существов...</td>\n",
       "      <td>виммер видеть аристотель признавать существова...</td>\n",
       "    </tr>\n",
       "    <tr>\n",
       "      <th>4</th>\n",
       "      <td>Он\\r\\n писал, например, что в отношении некот...</td>\n",
       "      <td>2</td>\n",
       "      <td>писал например отношении некоторых обитателей ...</td>\n",
       "      <td>писа например отношен некотор обитател мор тру...</td>\n",
       "      <td>писал например отношении некоторых обитателей ...</td>\n",
       "      <td>писать например отношение некоторый обитатель ...</td>\n",
       "    </tr>\n",
       "  </tbody>\n",
       "</table>\n",
       "</div>"
      ],
      "text/plain": [
       "                                                text  style  \\\n",
       "0  Как целостная система знаний о растениях ботан...      2   \n",
       "1  \\r\\n Содержание\\r\\n Основные этапы развития бо...      2   \n",
       "2  ) в пятой книге «Истории животных» (лат.  Hist...      2   \n",
       "3   Виммером.  Из них\\r\\n можно видеть, что Арист...      2   \n",
       "4   Он\\r\\n писал, например, что в отношении некот...      2   \n",
       "\n",
       "                                              porter  \\\n",
       "0  целостная система знаний растениях ботаника оф...   \n",
       "1  содержание основные этапы развития ботаники ти...   \n",
       "2  пятой книге истории животных лат historia anim...   \n",
       "3  виммером видеть аристотель признавал существов...   \n",
       "4  писал например отношении некоторых обитателей ...   \n",
       "\n",
       "                                            snowball  \\\n",
       "0  целостн систем знан растен ботаник оформ xviix...   \n",
       "1  содержан основн этап развит ботаник титульн ли...   \n",
       "2  пят книг истор животн лат historia animalium у...   \n",
       "3  виммер видет аристотел признава существован дв...   \n",
       "4  писа например отношен некотор обитател мор тру...   \n",
       "\n",
       "                                             wordnet  \\\n",
       "0  целостная система знаний растениях ботаника оф...   \n",
       "1  содержание основные этапы развития ботаники ти...   \n",
       "2  пятой книге истории животных лат historia anim...   \n",
       "3  виммером видеть аристотель признавал существов...   \n",
       "4  писал например отношении некоторых обитателей ...   \n",
       "\n",
       "                                            pymorphy  \n",
       "0  целостный система знание растение ботаника офо...  \n",
       "1  содержание основной этап развитие ботаник титу...  \n",
       "2  пятый книга история животное лата historia ani...  \n",
       "3  виммер видеть аристотель признавать существова...  \n",
       "4  писать например отношение некоторый обитатель ...  "
      ]
     },
     "execution_count": 9,
     "metadata": {},
     "output_type": "execute_result"
    }
   ],
   "source": [
    "df_train.head()"
   ]
  },
  {
   "cell_type": "code",
   "execution_count": 10,
   "id": "6ea5e5ce-8408-4501-b3e8-dae17cdccee0",
   "metadata": {},
   "outputs": [],
   "source": [
    "train, test = train_test_split(df_train, test_size=0.35, stratify=df_train[\"style\"], shuffle=True, random_state=57)\n",
    "test, val = train_test_split(test, test_size=0.5, random_state=52)"
   ]
  },
  {
   "cell_type": "code",
   "execution_count": 11,
   "id": "ed7df8ba-eb83-400f-a8d9-3f7feba69fc3",
   "metadata": {},
   "outputs": [
    {
     "data": {
      "text/html": [
       "<div>\n",
       "<style scoped>\n",
       "    .dataframe tbody tr th:only-of-type {\n",
       "        vertical-align: middle;\n",
       "    }\n",
       "\n",
       "    .dataframe tbody tr th {\n",
       "        vertical-align: top;\n",
       "    }\n",
       "\n",
       "    .dataframe thead th {\n",
       "        text-align: right;\n",
       "    }\n",
       "</style>\n",
       "<table border=\"1\" class=\"dataframe\">\n",
       "  <thead>\n",
       "    <tr style=\"text-align: right;\">\n",
       "      <th></th>\n",
       "      <th>text</th>\n",
       "      <th>style</th>\n",
       "      <th>porter</th>\n",
       "      <th>snowball</th>\n",
       "      <th>wordnet</th>\n",
       "      <th>pymorphy</th>\n",
       "    </tr>\n",
       "  </thead>\n",
       "  <tbody>\n",
       "    <tr>\n",
       "      <th>37</th>\n",
       "      <td>Те гипотезы,\\r\\n которые описывают совокупнос...</td>\n",
       "      <td>2</td>\n",
       "      <td>те гипотезы которые описывают совокупность наб...</td>\n",
       "      <td>те гипотез котор описыва совокупн наблюда факт...</td>\n",
       "      <td>те гипотезы которые описывают совокупность наб...</td>\n",
       "      <td>тот гипотеза который описывать совокупность на...</td>\n",
       "    </tr>\n",
       "    <tr>\n",
       "      <th>959</th>\n",
       "      <td>\\r\\n Вонмигласов сидит минуту неподвижно, слов...</td>\n",
       "      <td>0</td>\n",
       "      <td>вонмигласов сидит минуту неподвижно словно чув...</td>\n",
       "      <td>вонмиглас сид минут неподвижн словн чувств оше...</td>\n",
       "      <td>вонмигласов сидит минуту неподвижно словно чув...</td>\n",
       "      <td>вонмиглас сидеть минута неподвижно словно чувс...</td>\n",
       "    </tr>\n",
       "    <tr>\n",
       "      <th>1803</th>\n",
       "      <td>Против всех кандидатовпроголосовало 2,76% изб...</td>\n",
       "      <td>1</td>\n",
       "      <td>против кандидатовпроголосовало 276 избирателей...</td>\n",
       "      <td>прот кандидатовпроголосова 276 избирател выбор...</td>\n",
       "      <td>против кандидатовпроголосовало 276 избирателей...</td>\n",
       "      <td>против кандидатовпроголосовать 276 избиратель ...</td>\n",
       "    </tr>\n",
       "    <tr>\n",
       "      <th>598</th>\n",
       "      <td>Суперанской и А.  В.  Сусловой за 1988\\r\\n го...</td>\n",
       "      <td>2</td>\n",
       "      <td>суперанской сусловой 1988 год многие отмечалис...</td>\n",
       "      <td>суперанск суслов 1988 год мног отмеча им огран...</td>\n",
       "      <td>суперанской сусловой 1988 год многие отмечалис...</td>\n",
       "      <td>суперанский суслов 1988 год многие отмечаться ...</td>\n",
       "    </tr>\n",
       "    <tr>\n",
       "      <th>64</th>\n",
       "      <td>В Великобритании, например,\\r\\n роль Академии...</td>\n",
       "      <td>2</td>\n",
       "      <td>великобритании например роль академии играет к...</td>\n",
       "      <td>великобритан например рол академ игра королевс...</td>\n",
       "      <td>великобритании например роль академии играет к...</td>\n",
       "      <td>великобритания например роль академия играть к...</td>\n",
       "    </tr>\n",
       "  </tbody>\n",
       "</table>\n",
       "</div>"
      ],
      "text/plain": [
       "                                                   text  style  \\\n",
       "37     Те гипотезы,\\r\\n которые описывают совокупнос...      2   \n",
       "959   \\r\\n Вонмигласов сидит минуту неподвижно, слов...      0   \n",
       "1803   Против всех кандидатовпроголосовало 2,76% изб...      1   \n",
       "598    Суперанской и А.  В.  Сусловой за 1988\\r\\n го...      2   \n",
       "64     В Великобритании, например,\\r\\n роль Академии...      2   \n",
       "\n",
       "                                                 porter  \\\n",
       "37    те гипотезы которые описывают совокупность наб...   \n",
       "959   вонмигласов сидит минуту неподвижно словно чув...   \n",
       "1803  против кандидатовпроголосовало 276 избирателей...   \n",
       "598   суперанской сусловой 1988 год многие отмечалис...   \n",
       "64    великобритании например роль академии играет к...   \n",
       "\n",
       "                                               snowball  \\\n",
       "37    те гипотез котор описыва совокупн наблюда факт...   \n",
       "959   вонмиглас сид минут неподвижн словн чувств оше...   \n",
       "1803  прот кандидатовпроголосова 276 избирател выбор...   \n",
       "598   суперанск суслов 1988 год мног отмеча им огран...   \n",
       "64    великобритан например рол академ игра королевс...   \n",
       "\n",
       "                                                wordnet  \\\n",
       "37    те гипотезы которые описывают совокупность наб...   \n",
       "959   вонмигласов сидит минуту неподвижно словно чув...   \n",
       "1803  против кандидатовпроголосовало 276 избирателей...   \n",
       "598   суперанской сусловой 1988 год многие отмечалис...   \n",
       "64    великобритании например роль академии играет к...   \n",
       "\n",
       "                                               pymorphy  \n",
       "37    тот гипотеза который описывать совокупность на...  \n",
       "959   вонмиглас сидеть минута неподвижно словно чувс...  \n",
       "1803  против кандидатовпроголосовать 276 избиратель ...  \n",
       "598   суперанский суслов 1988 год многие отмечаться ...  \n",
       "64    великобритания например роль академия играть к...  "
      ]
     },
     "execution_count": 11,
     "metadata": {},
     "output_type": "execute_result"
    }
   ],
   "source": [
    "train.head()"
   ]
  },
  {
   "cell_type": "code",
   "execution_count": 12,
   "id": "419233c5-aead-4ea8-a033-8a9b64dee322",
   "metadata": {},
   "outputs": [
    {
     "data": {
      "text/html": [
       "<div>\n",
       "<style scoped>\n",
       "    .dataframe tbody tr th:only-of-type {\n",
       "        vertical-align: middle;\n",
       "    }\n",
       "\n",
       "    .dataframe tbody tr th {\n",
       "        vertical-align: top;\n",
       "    }\n",
       "\n",
       "    .dataframe thead th {\n",
       "        text-align: right;\n",
       "    }\n",
       "</style>\n",
       "<table border=\"1\" class=\"dataframe\">\n",
       "  <thead>\n",
       "    <tr style=\"text-align: right;\">\n",
       "      <th></th>\n",
       "      <th>text</th>\n",
       "      <th>style</th>\n",
       "      <th>porter</th>\n",
       "      <th>snowball</th>\n",
       "      <th>wordnet</th>\n",
       "      <th>pymorphy</th>\n",
       "    </tr>\n",
       "  </thead>\n",
       "  <tbody>\n",
       "    <tr>\n",
       "      <th>528</th>\n",
       "      <td>\\r\\n Одновременно с распространением имён прои...</td>\n",
       "      <td>2</td>\n",
       "      <td>одновременно распространением имён проистекала...</td>\n",
       "      <td>одновремен распространен им проистека народн а...</td>\n",
       "      <td>одновременно распространением имён проистекала...</td>\n",
       "      <td>одновременно распространение имя проистекать н...</td>\n",
       "    </tr>\n",
       "    <tr>\n",
       "      <th>620</th>\n",
       "      <td>\\r\\n Распространяясь через ФСР, электроны с\\r\\...</td>\n",
       "      <td>2</td>\n",
       "      <td>распространяясь фср электроны антипараллельным...</td>\n",
       "      <td>распростран фср электрон антипараллельн направ...</td>\n",
       "      <td>распространяясь фср электроны антипараллельным...</td>\n",
       "      <td>распространяться фср электрон антипараллельный...</td>\n",
       "    </tr>\n",
       "    <tr>\n",
       "      <th>834</th>\n",
       "      <td>\\r\\n Противоположная резная дверь открылась, в...</td>\n",
       "      <td>0</td>\n",
       "      <td>противоположная резная дверь открылась вошел т...</td>\n",
       "      <td>противоположн резн двер откр вошел тяпнут оказ...</td>\n",
       "      <td>противоположная резная дверь открылась вошел т...</td>\n",
       "      <td>противоположный резной дверь открыться войти т...</td>\n",
       "    </tr>\n",
       "    <tr>\n",
       "      <th>725</th>\n",
       "      <td>\\r\\n Наконец даже газеты заговорили об этих яв...</td>\n",
       "      <td>0</td>\n",
       "      <td>газеты заговорили этих явлениях сям стали появ...</td>\n",
       "      <td>газет заговор эт явлен сям стал появля популяр...</td>\n",
       "      <td>газеты заговорили этих явлениях сям стали появ...</td>\n",
       "      <td>газета заговорить этот явление сям стать появл...</td>\n",
       "    </tr>\n",
       "    <tr>\n",
       "      <th>1806</th>\n",
       "      <td>Двум другим прохожим-израильтянам, получившим...</td>\n",
       "      <td>1</td>\n",
       "      <td>двум другим прохожимизраильтянам получившим ле...</td>\n",
       "      <td>двум друг прохожимизраильтян получ легк травм ...</td>\n",
       "      <td>двум другим прохожимизраильтянам получившим ле...</td>\n",
       "      <td>два другой прохожимизраильтянин получить лёгки...</td>\n",
       "    </tr>\n",
       "  </tbody>\n",
       "</table>\n",
       "</div>"
      ],
      "text/plain": [
       "                                                   text  style  \\\n",
       "528   \\r\\n Одновременно с распространением имён прои...      2   \n",
       "620   \\r\\n Распространяясь через ФСР, электроны с\\r\\...      2   \n",
       "834   \\r\\n Противоположная резная дверь открылась, в...      0   \n",
       "725   \\r\\n Наконец даже газеты заговорили об этих яв...      0   \n",
       "1806   Двум другим прохожим-израильтянам, получившим...      1   \n",
       "\n",
       "                                                 porter  \\\n",
       "528   одновременно распространением имён проистекала...   \n",
       "620   распространяясь фср электроны антипараллельным...   \n",
       "834   противоположная резная дверь открылась вошел т...   \n",
       "725   газеты заговорили этих явлениях сям стали появ...   \n",
       "1806  двум другим прохожимизраильтянам получившим ле...   \n",
       "\n",
       "                                               snowball  \\\n",
       "528   одновремен распространен им проистека народн а...   \n",
       "620   распростран фср электрон антипараллельн направ...   \n",
       "834   противоположн резн двер откр вошел тяпнут оказ...   \n",
       "725   газет заговор эт явлен сям стал появля популяр...   \n",
       "1806  двум друг прохожимизраильтян получ легк травм ...   \n",
       "\n",
       "                                                wordnet  \\\n",
       "528   одновременно распространением имён проистекала...   \n",
       "620   распространяясь фср электроны антипараллельным...   \n",
       "834   противоположная резная дверь открылась вошел т...   \n",
       "725   газеты заговорили этих явлениях сям стали появ...   \n",
       "1806  двум другим прохожимизраильтянам получившим ле...   \n",
       "\n",
       "                                               pymorphy  \n",
       "528   одновременно распространение имя проистекать н...  \n",
       "620   распространяться фср электрон антипараллельный...  \n",
       "834   противоположный резной дверь открыться войти т...  \n",
       "725   газета заговорить этот явление сям стать появл...  \n",
       "1806  два другой прохожимизраильтянин получить лёгки...  "
      ]
     },
     "execution_count": 12,
     "metadata": {},
     "output_type": "execute_result"
    }
   ],
   "source": [
    "test.head()"
   ]
  },
  {
   "cell_type": "code",
   "execution_count": 13,
   "id": "2abcf9d4-cd53-4cc6-95ca-e9d59b43e039",
   "metadata": {},
   "outputs": [
    {
     "data": {
      "text/html": [
       "<div>\n",
       "<style scoped>\n",
       "    .dataframe tbody tr th:only-of-type {\n",
       "        vertical-align: middle;\n",
       "    }\n",
       "\n",
       "    .dataframe tbody tr th {\n",
       "        vertical-align: top;\n",
       "    }\n",
       "\n",
       "    .dataframe thead th {\n",
       "        text-align: right;\n",
       "    }\n",
       "</style>\n",
       "<table border=\"1\" class=\"dataframe\">\n",
       "  <thead>\n",
       "    <tr style=\"text-align: right;\">\n",
       "      <th></th>\n",
       "      <th>text</th>\n",
       "      <th>style</th>\n",
       "      <th>porter</th>\n",
       "      <th>snowball</th>\n",
       "      <th>wordnet</th>\n",
       "      <th>pymorphy</th>\n",
       "    </tr>\n",
       "  </thead>\n",
       "  <tbody>\n",
       "    <tr>\n",
       "      <th>1272</th>\n",
       "      <td>Крик и шум сделались общими. \\r\\n Кошевой хот...</td>\n",
       "      <td>0</td>\n",
       "      <td>крик шум сделались общими кошевой хотел говори...</td>\n",
       "      <td>крик шум сдела общ кошев хотел говор зна разъя...</td>\n",
       "      <td>крик шум сделались общими кошевой хотел говори...</td>\n",
       "      <td>крик шум сделаться общий кошев хотеть говорить...</td>\n",
       "    </tr>\n",
       "    <tr>\n",
       "      <th>1106</th>\n",
       "      <td>)] на лестнице, приговаривая: \"Вот тебе, Пеппе...</td>\n",
       "      <td>0</td>\n",
       "      <td>лестнице приговаривая тебе пеппе молился свято...</td>\n",
       "      <td>лестниц приговарив теб пепп мол свят панкрат т...</td>\n",
       "      <td>лестнице приговаривая тебе пеппе молился свято...</td>\n",
       "      <td>лестница приговаривать ты пеппа молиться свято...</td>\n",
       "    </tr>\n",
       "    <tr>\n",
       "      <th>759</th>\n",
       "      <td>Хоть и лопают богато, и все с красным вином. ...</td>\n",
       "      <td>0</td>\n",
       "      <td>лопают богато красным вином прибежит машинисто...</td>\n",
       "      <td>лопа богат красн вин прибеж машинисточк четыр ...</td>\n",
       "      <td>лопают богато красным вином прибежит машинисто...</td>\n",
       "      <td>лопать богато красный вино прибежать машинисто...</td>\n",
       "    </tr>\n",
       "    <tr>\n",
       "      <th>1455</th>\n",
       "      <td>. \\r\\n Скажет вам старик матрос, оборотясь наз...</td>\n",
       "      <td>0</td>\n",
       "      <td>скажет старик матрос оборотясь назад поверить ...</td>\n",
       "      <td>скажет старик матрос оборот назад повер направ...</td>\n",
       "      <td>скажет старик матрос оборотясь назад поверить ...</td>\n",
       "      <td>сказать старик матрос оборотиться назад повери...</td>\n",
       "    </tr>\n",
       "    <tr>\n",
       "      <th>82</th>\n",
       "      <td>Основатель Берлинской Академии наук Лейбниц в...</td>\n",
       "      <td>2</td>\n",
       "      <td>основатель берлинской академии наук лейбниц па...</td>\n",
       "      <td>основател берлинск академ наук лейбниц памятн ...</td>\n",
       "      <td>основатель берлинской академии наук лейбниц па...</td>\n",
       "      <td>основатель берлинский академия наука лейбниц п...</td>\n",
       "    </tr>\n",
       "  </tbody>\n",
       "</table>\n",
       "</div>"
      ],
      "text/plain": [
       "                                                   text  style  \\\n",
       "1272   Крик и шум сделались общими. \\r\\n Кошевой хот...      0   \n",
       "1106  )] на лестнице, приговаривая: \"Вот тебе, Пеппе...      0   \n",
       "759    Хоть и лопают богато, и все с красным вином. ...      0   \n",
       "1455  . \\r\\n Скажет вам старик матрос, оборотясь наз...      0   \n",
       "82     Основатель Берлинской Академии наук Лейбниц в...      2   \n",
       "\n",
       "                                                 porter  \\\n",
       "1272  крик шум сделались общими кошевой хотел говори...   \n",
       "1106  лестнице приговаривая тебе пеппе молился свято...   \n",
       "759   лопают богато красным вином прибежит машинисто...   \n",
       "1455  скажет старик матрос оборотясь назад поверить ...   \n",
       "82    основатель берлинской академии наук лейбниц па...   \n",
       "\n",
       "                                               snowball  \\\n",
       "1272  крик шум сдела общ кошев хотел говор зна разъя...   \n",
       "1106  лестниц приговарив теб пепп мол свят панкрат т...   \n",
       "759   лопа богат красн вин прибеж машинисточк четыр ...   \n",
       "1455  скажет старик матрос оборот назад повер направ...   \n",
       "82    основател берлинск академ наук лейбниц памятн ...   \n",
       "\n",
       "                                                wordnet  \\\n",
       "1272  крик шум сделались общими кошевой хотел говори...   \n",
       "1106  лестнице приговаривая тебе пеппе молился свято...   \n",
       "759   лопают богато красным вином прибежит машинисто...   \n",
       "1455  скажет старик матрос оборотясь назад поверить ...   \n",
       "82    основатель берлинской академии наук лейбниц па...   \n",
       "\n",
       "                                               pymorphy  \n",
       "1272  крик шум сделаться общий кошев хотеть говорить...  \n",
       "1106  лестница приговаривать ты пеппа молиться свято...  \n",
       "759   лопать богато красный вино прибежать машинисто...  \n",
       "1455  сказать старик матрос оборотиться назад повери...  \n",
       "82    основатель берлинский академия наука лейбниц п...  "
      ]
     },
     "execution_count": 13,
     "metadata": {},
     "output_type": "execute_result"
    }
   ],
   "source": [
    "val.head()"
   ]
  },
  {
   "cell_type": "code",
   "execution_count": 14,
   "id": "2450eced-2fa4-4db7-bd01-9c99a2f39d1d",
   "metadata": {},
   "outputs": [],
   "source": [
    "params = {\n",
    "    'max_depth': [5, 20, 50, 100],\n",
    "    'min_samples_split': [5, 10, 30, 50, 100],\n",
    "    'min_samples_leaf': [5, 10, 30, 50, 100],\n",
    "}\n",
    "dec_tree_param = {'max_depth': 100, 'min_samples_leaf': 10, 'min_samples_split': 100}"
   ]
  },
  {
   "cell_type": "code",
   "execution_count": 15,
   "id": "9db879cf-dde4-4087-af6a-3f7484d2d89c",
   "metadata": {},
   "outputs": [],
   "source": [
    "params_rt = {'n_estimators': [100, 300, 500],\n",
    "             'max_depth': [50, 100, 200, 250],\n",
    "             'min_samples_split': [25, 100, 200],\n",
    "             'min_samples_leaf': [10, 30, 100]}\n",
    "\n",
    "random_forest_param = {'n_estimators': 300,\n",
    " 'min_samples_split': 25,\n",
    " 'min_samples_leaf': 10,\n",
    " 'max_depth': 100}"
   ]
  },
  {
   "cell_type": "code",
   "execution_count": 16,
   "id": "0ba156dc-9c73-4cf2-89f6-53c20bc8e411",
   "metadata": {},
   "outputs": [
    {
     "data": {
      "text/plain": [
       "array([0.43121693, 0.51262626, 0.38241758, 0.42577031, 0.53257432])"
      ]
     },
     "execution_count": 16,
     "metadata": {},
     "output_type": "execute_result"
    }
   ],
   "source": [
    "sample = df_train.sample(df_train.shape[0] // 10)\n",
    "train_smaller, test_smaller = train_test_split(sample, test_size=0.3, stratify=sample[\"style\"], shuffle=True, random_state=57)\n",
    "\n",
    "tfidf = TfidfVectorizer(preprocessor=preprocess_snowball_stem)\n",
    "\n",
    "x_news_train = tfidf.fit_transform(train_smaller['text'])\n",
    "x_news_test = tfidf.transform(test_smaller['text'])\n",
    "\n",
    "y_train = train_smaller[\"style\"]\n",
    "y_test = test_smaller[\"style\"]\n",
    "\n",
    "model = LogisticRegression(max_iter=300)\n",
    "model_score = cross_val_score(model, x_news_train, y_train, cv=5, scoring=make_scorer(f1_score, average='macro'))\n",
    "model_score"
   ]
  },
  {
   "cell_type": "code",
   "execution_count": 17,
   "id": "2eea4ad5-ab4c-4ca2-8fb0-d1bc3cddb574",
   "metadata": {},
   "outputs": [],
   "source": [
    "from scipy.stats import mannwhitneyu\n",
    "\n",
    "def find_best_model(x_train_df: pd.DataFrame, y_train_df: pd.DataFrame, x_test_df: pd.DataFrame, to_pipeline: List):\n",
    "    best_score = None\n",
    "    best_model = None\n",
    "    for item in to_pipeline:\n",
    "        prep = item[1][1]\n",
    "        m = item[2][1]\n",
    "        x_news_train = prep.fit_transform(x_train_df[item[0][0]])\n",
    "        x_news_test = prep.transform(x_test_df[item[0][0]])\n",
    "        score = cross_val_score(m, x_news_train, y_train_df, cv=10, scoring=make_scorer(f1_score, average='macro'))\n",
    "        if best_score is None:\n",
    "            best_score = score\n",
    "            best_model = item\n",
    "            print(f\"Best model: {best_model[0][0]}-{best_model[1][0]}-{best_model[2][0]}\")\n",
    "        else:\n",
    "            p = mannwhitneyu(np.array(best_score), np.array(score), alternative='less').pvalue\n",
    "            if p < 0.05:\n",
    "                best_score = score\n",
    "                best_model = item\n",
    "                print(f\"Best model: {best_model[0][0]}-{best_model[1][0]}-{best_model[2][0]}\")\n",
    "    return best_model, best_score"
   ]
  },
  {
   "cell_type": "code",
   "execution_count": 18,
   "id": "52df46dc-7c93-4f37-a898-01c854ce6049",
   "metadata": {},
   "outputs": [],
   "source": [
    "def train_and_test_model(x_train_df: pd.DataFrame, y_train_df: pd.DataFrame, x_test_df: pd.DataFrame, y_test_df: pd.DataFrame, to_pipeline: List):\n",
    "    for item in to_pipeline:\n",
    "        pipe = Pipeline(item[1:])\n",
    "        x_train_now = x_train_df[item[0][0]]\n",
    "        x_test_now = x_test_df[item[0][0]]\n",
    "        pipe.fit(x_train_now, y_train_df)\n",
    "        print(f\"{item[0][0]}+{item[1][0]}+{item[2][0]}\")\n",
    "        y_pred = pipe.predict(x_train_now)\n",
    "        print(f\"Train: {f1_score(y_train_df, y_pred, average='macro')}\")\n",
    "        y_pred = pipe.predict(x_test_now)\n",
    "        print(f\"Test: {f1_score(y_test_df, y_pred, average='macro')}\")\n",
    "        df = pd.DataFrame(data=classification_report(y_test_df, y_pred, output_dict=True))\n",
    "        df.rename(mapper= lambda x: style[int(x)] if x not in ['accuracy', 'macro avg', 'weighted avg'] else x, axis='columns', inplace=True)\n",
    "        print(df)\n",
    "        conf_m = confusion_matrix(y_test_df, y_pred)\n",
    "        cm_display = sns.heatmap(conf_m, cmap=\"afmhot\", xticklabels=style, yticklabels=style)\n",
    "        cm_display.plot()\n",
    "        plt.rcParams['xtick.major.pad']= 10\n",
    "        plt.rcParams['ytick.major.pad']= 10\n",
    "        plt.xticks(rotation=90)\n",
    "        plt.show()"
   ]
  },
  {
   "cell_type": "code",
   "execution_count": 19,
   "id": "c23c5e1b-c8c8-4104-a41a-2ed1d2172c77",
   "metadata": {},
   "outputs": [
    {
     "name": "stdout",
     "output_type": "stream",
     "text": [
      "Best model: porter-bow-logreg\n",
      "Best model: snowball-bow-logreg\n",
      "[0.94557549 0.87658736 0.9213325  0.9293947  0.90511132 0.94248366\n",
      " 0.98292681 0.93763898 0.89491988 0.97023478]\n",
      "[('snowball', <function preprocess_snowball_stem at 0x00000132396F1EE0>), ('bow', CountVectorizer()), ('logreg', LogisticRegression(max_iter=300))]\n"
     ]
    }
   ],
   "source": [
    "preprocess = [('porter', preprocess_porter_stem), ('snowball', preprocess_snowball_stem), ('wordnet', preprocess_wordnet_lem), ('pymorphy', preprocess_pymrophy)]\n",
    "vectorizers = [('bow', CountVectorizer()), ('tfidf', TfidfVectorizer())]\n",
    "all_log_reg = []\n",
    "\n",
    "for p in preprocess:\n",
    "    for v in vectorizers:\n",
    "        all_log_reg.append([p, v, ('logreg', LogisticRegression(max_iter=300))])\n",
    "\n",
    "log_reg_model, log_reg_score = find_best_model(train, train[\"style\"], test, all_log_reg)\n",
    "print(log_reg_score)\n",
    "print(log_reg_model)"
   ]
  },
  {
   "cell_type": "code",
   "execution_count": 20,
   "id": "500738f9-5464-41d7-b216-f82d86d40977",
   "metadata": {},
   "outputs": [
    {
     "name": "stdout",
     "output_type": "stream",
     "text": [
      "Best model: porter-bow-dectree\n",
      "Best model: pymorphy-tfidf-dectree\n",
      "[0.69569521 0.70885547 0.76369168 0.77860697 0.7191698  0.75936512\n",
      " 0.86585675 0.68185148 0.74074074 0.70195268]\n",
      "[('pymorphy', <function preprocess_pymrophy at 0x00000132396F2700>), ('tfidf', TfidfVectorizer()), ('dectree', DecisionTreeClassifier(max_depth=100, min_samples_leaf=10,\n",
      "                       min_samples_split=100))]\n"
     ]
    }
   ],
   "source": [
    "all_dec_tree = []\n",
    "\n",
    "for p in preprocess:\n",
    "    for v in vectorizers:\n",
    "        all_dec_tree.append([p, v, ('dectree', DecisionTreeClassifier(**dec_tree_param))])\n",
    "\n",
    "dec_tree_model, dec_tree_score = find_best_model(train, train[\"style\"], test, all_dec_tree)\n",
    "print(dec_tree_score)\n",
    "print(dec_tree_model)"
   ]
  },
  {
   "cell_type": "code",
   "execution_count": 21,
   "id": "f8c5d221-35de-44ff-966f-e89d683be5f2",
   "metadata": {},
   "outputs": [
    {
     "name": "stdout",
     "output_type": "stream",
     "text": [
      "Best model: porter-bow-rf\n",
      "Best model: snowball-bow-rf\n",
      "[0.59128499 0.62228488 0.66573427 0.54396343 0.58407348 0.64419777\n",
      " 0.72608198 0.60261796 0.57739446 0.65157055]\n",
      "[('snowball', <function preprocess_snowball_stem at 0x00000132396F1EE0>), ('bow', CountVectorizer()), ('rf', RandomForestClassifier(max_depth=100, min_samples_leaf=10, min_samples_split=25,\n",
      "                       n_estimators=300))]\n"
     ]
    }
   ],
   "source": [
    "all_rand_forest = []\n",
    "\n",
    "for p in preprocess:\n",
    "    for v in vectorizers:\n",
    "        all_rand_forest.append([p, v, ('rf', RandomForestClassifier(**random_forest_param))])\n",
    "\n",
    "rand_forest_model, rand_forest_score = find_best_model(train, train[\"style\"], test, all_rand_forest)\n",
    "print(rand_forest_score)\n",
    "print(rand_forest_model)"
   ]
  },
  {
   "cell_type": "code",
   "execution_count": 22,
   "id": "963722bc-338b-427f-b677-6bed8bfd1a6a",
   "metadata": {},
   "outputs": [
    {
     "name": "stdout",
     "output_type": "stream",
     "text": [
      "snowball+bow+logreg\n",
      "Train: 1.0\n",
      "Test: 0.9554748062015502\n",
      "                    2          0           1  accuracy   macro avg  \\\n",
      "precision    0.945122   1.000000    0.962963  0.960843    0.969362   \n",
      "recall       0.993590   0.869565    0.971963  0.960843    0.945039   \n",
      "f1-score     0.968750   0.930233    0.967442  0.960843    0.955475   \n",
      "support    156.000000  69.000000  107.000000  0.960843  332.000000   \n",
      "\n",
      "           weighted avg  \n",
      "precision      0.962277  \n",
      "recall         0.960843  \n",
      "f1-score       0.960323  \n",
      "support      332.000000  \n"
     ]
    },
    {
     "data": {
      "image/png": "[encoded data removed]",
      "text/plain": [
       "<Figure size 640x480 with 2 Axes>"
      ]
     },
     "metadata": {},
     "output_type": "display_data"
    }
   ],
   "source": [
    "train_and_test_model(train, train[\"style\"], test, test[\"style\"], [log_reg_model])"
   ]
  },
  {
   "cell_type": "code",
   "execution_count": 23,
   "id": "4ad0e43e-06e6-4689-94a8-065c9c157c3d",
   "metadata": {},
   "outputs": [
    {
     "name": "stdout",
     "output_type": "stream",
     "text": [
      "pymorphy+tfidf+dectree\n",
      "Train: 0.8078676164169151\n",
      "Test: 0.7596683312314196\n",
      "                    2          0           1  accuracy   macro avg  \\\n",
      "precision    0.827381   0.734694    0.782609  0.798193    0.781561   \n",
      "recall       0.891026   0.521739    0.841121  0.798193    0.751295   \n",
      "f1-score     0.858025   0.610169    0.810811  0.798193    0.759668   \n",
      "support    156.000000  69.000000  107.000000  0.798193  332.000000   \n",
      "\n",
      "           weighted avg  \n",
      "precision      0.793688  \n",
      "recall         0.798193  \n",
      "f1-score       0.791296  \n",
      "support      332.000000  \n"
     ]
    },
    {
     "data": {
      "image/png": "[encoded data removed]",
      "text/plain": [
       "<Figure size 640x480 with 2 Axes>"
      ]
     },
     "metadata": {},
     "output_type": "display_data"
    }
   ],
   "source": [
    "train_and_test_model(train, train[\"style\"], test, test[\"style\"], [dec_tree_model])"
   ]
  },
  {
   "cell_type": "code",
   "execution_count": 24,
   "id": "0997291e-979a-4124-805a-d2c40aea7d2e",
   "metadata": {},
   "outputs": [
    {
     "name": "stdout",
     "output_type": "stream",
     "text": [
      "snowball+bow+rf\n",
      "Train: 0.7378378866563163\n",
      "Test: 0.7078268788414186\n",
      "                    2          0           1  accuracy   macro avg  \\\n",
      "precision    0.690265   1.000000    0.887500  0.762048    0.859255   \n",
      "recall       1.000000   0.376812    0.663551  0.762048    0.680121   \n",
      "f1-score     0.816754   0.547368    0.759358  0.762048    0.707827   \n",
      "support    156.000000  69.000000  107.000000  0.762048  332.000000   \n",
      "\n",
      "           weighted avg  \n",
      "precision      0.818205  \n",
      "recall         0.762048  \n",
      "f1-score       0.742269  \n",
      "support      332.000000  \n"
     ]
    },
    {
     "data": {
      "image/png": "[encoded data removed]",
      "text/plain": [
       "<Figure size 640x480 with 2 Axes>"
      ]
     },
     "metadata": {},
     "output_type": "display_data"
    }
   ],
   "source": [
    "train_and_test_model(train, train[\"style\"], test, test[\"style\"], [rand_forest_model])"
   ]
  },
  {
   "cell_type": "code",
   "execution_count": 25,
   "id": "594946a2-bd1d-40f3-a0ce-9c31bb4cda0b",
   "metadata": {},
   "outputs": [
    {
     "name": "stdout",
     "output_type": "stream",
     "text": [
      "porter+bow+cb\n",
      "Train: 0.9880350099676153\n",
      "Test: 0.7951560316721006\n",
      "                    2          0           1  accuracy   macro avg  \\\n",
      "precision    0.741463   0.954545    0.915663  0.813253    0.870557   \n",
      "recall       0.974359   0.608696    0.710280  0.813253    0.764445   \n",
      "f1-score     0.842105   0.743363    0.800000  0.813253    0.795156   \n",
      "support    156.000000  69.000000  107.000000  0.813253  332.000000   \n",
      "\n",
      "           weighted avg  \n",
      "precision      0.841891  \n",
      "recall         0.813253  \n",
      "f1-score       0.808013  \n",
      "support      332.000000  \n"
     ]
    },
    {
     "data": {
      "image/png": "[encoded data removed]",
      "text/plain": [
       "<Figure size 640x480 with 2 Axes>"
      ]
     },
     "metadata": {},
     "output_type": "display_data"
    }
   ],
   "source": [
    "catboost_arr = [('porter', preprocess_porter_stem), ('bow', CountVectorizer()), ('cb', CatBoostClassifier(verbose=False, iterations=500))]\n",
    "\n",
    "train_and_test_model(train, train[\"style\"], test, test[\"style\"], [catboost_arr])"
   ]
  },
  {
   "cell_type": "code",
   "execution_count": null,
   "id": "8c12f69a-37f1-41f0-985e-2cb4621dd66a",
   "metadata": {},
   "outputs": [],
   "source": []
  }
 ],
 "metadata": {
  "kernelspec": {
   "display_name": "Python 3 (ipykernel)",
   "language": "python",
   "name": "python3"
  },
  "language_info": {
   "codemirror_mode": {
    "name": "ipython",
    "version": 3
   },
   "file_extension": ".py",
   "mimetype": "text/x-python",
   "name": "python",
   "nbconvert_exporter": "python",
   "pygments_lexer": "ipython3",
   "version": "3.11.7"
  }
 },
 "nbformat": 4,
 "nbformat_minor": 5
}
